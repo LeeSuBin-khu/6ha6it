{
 "cells": [
  {
   "cell_type": "code",
   "execution_count": 6,
   "metadata": {},
   "outputs": [
    {
     "name": "stdout",
     "output_type": "stream",
     "text": [
      "1.5\n"
     ]
    },
    {
     "data": {
      "image/png": "[encoded data removed]",
      "text/plain": [
       "<Figure size 432x288 with 1 Axes>"
      ]
     },
     "metadata": {},
     "output_type": "display_data"
    }
   ],
   "source": [
    "import pandas\n",
    "import matplotlib.pyplot\n",
    "\n",
    "data=pandas.read_excel(\"C:\\\\Users\\\\subin\\\\Desktop\\\\wp_pj8\\\\habit\\\\day.xlsx\")\n",
    "data=pandas.DataFrame(data)\n",
    "\n",
    "num=0\n",
    "for i in data.action:\n",
    "    if i==True:\n",
    "        num+=1\n",
    "        \n",
    "sum_statistic=(num/66)*100\n",
    "ratio=[sum_statistic,100-sum_statistic]\n",
    "label=[\"action\",\"non\"]\n",
    "color=['#8fd9b6','white']\n",
    "wedgeprops={'width': 0.7, 'edgecolor': 'w', 'linewidth': 5}\n",
    "print(round(sum_statistic,1))\n",
    "\n",
    "s=matplotlib.pyplot.figure()\n",
    "matplotlib.pyplot.pie(ratio, labels=label, autopct='%.1f%%',colors=color, wedgeprops=wedgeprops)\n",
    "matplotlib.pyplot.savefig('C:\\Users\\subin\\Desktop\\wp_pj8\\habit\\hb_main\\static\\hb_main\\image\\savefig_default.png')"
   ]
  },
  {
   "cell_type": "code",
   "execution_count": 4,
   "metadata": {
    "tags": [
     "outputPrepend"
    ]
   },
   "outputs": [
    {
     "ename": "ModuleNotFoundError",
     "evalue": "No module named 'mpld3'",
     "output_type": "error",
     "traceback": [
      "\u001b[1;31m---------------------------------------------------------------------------\u001b[0m",
      "\u001b[1;31mModuleNotFoundError\u001b[0m                       Traceback (most recent call last)",
      "\u001b[1;32m<ipython-input-4-e9c8224bb803>\u001b[0m in \u001b[0;36m<module>\u001b[1;34m\u001b[0m\n\u001b[0;32m      1\u001b[0m \u001b[1;32mimport\u001b[0m \u001b[0mjson\u001b[0m\u001b[1;33m\u001b[0m\u001b[1;33m\u001b[0m\u001b[0m\n\u001b[1;32m----> 2\u001b[1;33m \u001b[1;32mimport\u001b[0m \u001b[0mmpld3\u001b[0m\u001b[1;33m\u001b[0m\u001b[1;33m\u001b[0m\u001b[0m\n\u001b[0m\u001b[0;32m      3\u001b[0m \u001b[1;33m\u001b[0m\u001b[0m\n\u001b[0;32m      4\u001b[0m \u001b[0mprint\u001b[0m\u001b[1;33m(\u001b[0m\u001b[0mmpld3\u001b[0m\u001b[1;33m.\u001b[0m\u001b[0mfig_to_html\u001b[0m\u001b[1;33m(\u001b[0m\u001b[0ms\u001b[0m\u001b[1;33m,\u001b[0m \u001b[0mfigid\u001b[0m\u001b[1;33m=\u001b[0m\u001b[1;34m'THIS_IS_FIGID'\u001b[0m\u001b[1;33m)\u001b[0m\u001b[1;33m)\u001b[0m\u001b[1;33m\u001b[0m\u001b[1;33m\u001b[0m\u001b[0m\n",
      "\u001b[1;31mModuleNotFoundError\u001b[0m: No module named 'mpld3'"
     ]
    }
   ],
   "source": [
    "import json\n",
    "import mpld3\n",
    "\n",
    "print(mpld3.fig_to_html(s, figid='THIS_IS_FIGID'))"
   ]
  },
  {
   "cell_type": "code",
   "execution_count": null,
   "metadata": {},
   "outputs": [],
   "source": []
  },
  {
   "cell_type": "code",
   "execution_count": null,
   "metadata": {},
   "outputs": [],
   "source": []
  },
  {
   "cell_type": "code",
   "execution_count": null,
   "metadata": {},
   "outputs": [],
   "source": []
  }
 ],
 "metadata": {
  "kernelspec": {
   "display_name": "Python 3",
   "language": "python",
   "name": "python3"
  },
  "language_info": {
   "codemirror_mode": {
    "name": "ipython",
    "version": 3
   },
   "file_extension": ".py",
   "mimetype": "text/x-python",
   "name": "python",
   "nbconvert_exporter": "python",
   "pygments_lexer": "ipython3",
   "version": "3.8.5"
  },
  "metadata": {
   "interpreter": {
    "hash": "70cb31a3503059a39d50a2618ac528f1e2bb6d8276efe6c7984be8378ed55ab4"
   }
  }
 },
 "nbformat": 4,
 "nbformat_minor": 4
}
